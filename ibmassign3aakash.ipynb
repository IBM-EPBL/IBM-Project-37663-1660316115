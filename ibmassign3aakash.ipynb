{
  "nbformat": 4,
  "nbformat_minor": 0,
  "metadata": {
    "colab": {
      "provenance": []
    },
    "kernelspec": {
      "name": "python3",
      "display_name": "Python 3"
    },
    "language_info": {
      "name": "python"
    }
  },
  "cells": [
    {
      "cell_type": "markdown",
      "source": [
        "\n",
        "Aakash saravanan 962219106001\n"
      ],
      "metadata": {
        "id": "Ez017lzdHBrD"
      }
    },
    {
      "cell_type": "code",
      "execution_count": null,
      "metadata": {
        "id": "xXG3oExNG-gM"
      },
      "outputs": [],
      "source": [
        "import pandas as pd\n",
        "import numpy as np\n",
        "import seaborn as sns\n",
        "import matplotlib.pyplot as plt"
      ]
    },
    {
      "cell_type": "code",
      "source": [
        "df = pd.read_csv(\"/content/abalone.csv\")"
      ],
      "metadata": {
        "id": "6YCSt_BOHXUD"
      },
      "execution_count": null,
      "outputs": []
    },
    {
      "cell_type": "code",
      "source": [
        "df.head()\n"
      ],
      "metadata": {
        "id": "PmY0hKgOHZEy"
      },
      "execution_count": null,
      "outputs": []
    },
    {
      "cell_type": "code",
      "source": [
        "df = pd.DataFrame({'diameter': [0.365,0.265,0.420,0.365,0.255],\n",
        "                   'length': [0.455,0.350,0.530,0.440,0.330],\n",
        "                   'height': [0.095,0.090,0.135,0.125,0.080]})\n",
        "df.head()"
      ],
      "metadata": {
        "id": "xMB-Vp_jHdtT"
      },
      "execution_count": null,
      "outputs": []
    },
    {
      "cell_type": "code",
      "source": [
        "df = pd.DataFrame({'rings': [15,7,9,10,7],\n",
        "                   'shellweight': [0.150,0.070,0.210,0.155,0.055]})\n",
        "\n",
        "df.head()"
      ],
      "metadata": {
        "id": "OsVUtLT1HeOj"
      },
      "execution_count": null,
      "outputs": []
    },
    {
      "cell_type": "code",
      "source": [
        "df = pd.DataFrame({'length': [0.455,0.350,0.530,0.440,0.330],\n",
        "                   'height': [0.095,0.090,0.135,0.125,0.080]})\n",
        "df.head()\n",
        "\n",
        "plt.scatter(df.length, df.height)\n",
        "plt.title('length vs. height')\n",
        "plt.xlabel('HEIGHT')\n",
        "plt.ylabel('LENGTH')"
      ],
      "metadata": {
        "id": "cyzI2eamHhA7"
      },
      "execution_count": null,
      "outputs": []
    },
    {
      "cell_type": "code",
      "source": [
        "df = {'sex':pd.Series(['M','M','F','M','I',]),\n",
        "   'length':pd.Series([0.455,0.350,0.530,0.440,0.330]),\n",
        "   'height':pd.Series([0.095,0.090,0.135,0.125,0.080])\n",
        "}\n",
        "\n",
        "#Create a DataFrame\n",
        "df = pd.DataFrame(df)\n",
        "df.head()\n"
      ],
      "metadata": {
        "id": "mNf5PyTiHi2M"
      },
      "execution_count": null,
      "outputs": []
    },
    {
      "cell_type": "code",
      "source": [
        "from sklearn.model_selection import train_test_split"
      ],
      "metadata": {
        "id": "QNEiy4FzHkli"
      },
      "execution_count": null,
      "outputs": []
    },
    {
      "cell_type": "code",
      "source": [
        "import numpy\n",
        "import matplotlib.pyplot as plt\n",
        "numpy.random.seed(2)\n",
        "\n",
        "x = numpy.random.normal(3, 1, 100)\n",
        "y = numpy.random.normal(150, 40, 100) / x\n",
        "\n",
        "plt.scatter(x, y)\n",
        "plt.show()"
      ],
      "metadata": {
        "id": "nEJNAk3CHlGh"
      },
      "execution_count": null,
      "outputs": []
    },
    {
      "cell_type": "code",
      "source": [
        "train_x = x[:80]\n",
        "train_y = y[:80]\n",
        "\n",
        "test_x = x[80:]\n",
        "test_y = y[80:]"
      ],
      "metadata": {
        "id": "if_Py7iaHnXz"
      },
      "execution_count": null,
      "outputs": []
    },
    {
      "cell_type": "code",
      "source": [
        "plt.scatter(train_x, train_y)\n",
        "plt.show()"
      ],
      "metadata": {
        "id": "vLJ-rY_-HpLs"
      },
      "execution_count": null,
      "outputs": []
    },
    {
      "cell_type": "code",
      "source": [
        "import pandas as pd\n",
        "from sklearn.linear_model import LinearRegression\n",
        "from sklearn.model_selection import train_test_split\n",
        " \n",
        "# read the dataset\n",
        "df = pd.read_csv(\"/content/abalone.csv\")\n",
        " \n",
        "# get the locations\n",
        "X = df.iloc[:, :-1]\n",
        "y = df.iloc[:, -1]\n",
        " \n",
        "# split the dataset\n",
        "X_train, X_test, y_train, y_test = train_test_split(\n",
        "    X, y, test_size=0.05, random_state=0)"
      ],
      "metadata": {
        "id": "cpluDaomHqyi"
      },
      "execution_count": null,
      "outputs": []
    },
    {
      "cell_type": "code",
      "source": [
        "import numpy\n",
        "from sklearn.metrics import r2_score\n",
        "numpy.random.seed(2)\n",
        "\n",
        "x = numpy.random.normal(3, 1, 100)\n",
        "y = numpy.random.normal(150, 40, 100) / x\n",
        "\n",
        "train_x = x[:80]\n",
        "train_y = y[:80]\n",
        "\n",
        "test_x = x[80:]\n",
        "test_y = y[80:]\n",
        "\n",
        "mymodel = numpy.poly1d(numpy.polyfit(train_x, train_y, 4))\n",
        "\n",
        "r2 = r2_score(test_y, mymodel(test_x))\n",
        "\n",
        "print(r2)"
      ],
      "metadata": {
        "id": "MN6hVjPhHsZA"
      },
      "execution_count": null,
      "outputs": []
    },
    {
      "cell_type": "code",
      "source": [
        "import numpy\n",
        "import matplotlib.pyplot as plt\n",
        "numpy.random.seed(2)\n",
        "\n",
        "x = numpy.random.normal(3, 1, 100)\n",
        "y = numpy.random.normal(150, 40, 100) / x\n",
        "\n",
        "train_x = x[:80]\n",
        "train_y = y[:80]\n",
        "\n",
        "test_x = x[80:]\n",
        "test_y = y[80:]\n",
        "\n",
        "mymodel = numpy.poly1d(numpy.polyfit(train_x, train_y, 4))\n",
        "\n",
        "myline = numpy.linspace(0, 6, 100)\n",
        "\n",
        "plt.scatter(train_x, train_y)\n",
        "plt.plot(myline, mymodel(myline))\n",
        "plt.show()"
      ],
      "metadata": {
        "id": "dNKQx-vTHt5C"
      },
      "execution_count": null,
      "outputs": []
    },
    {
      "cell_type": "code",
      "source": [
        "import pandas as pd\n",
        "from sklearn.linear_model import LinearRegression\n",
        "from sklearn.model_selection import train_test_split\n",
        "\n",
        "# read the dataset\n",
        "df = pd.read_csv(\"/content/abalone.csv\")\n",
        "\n",
        "# get the locations\n",
        "X = df.iloc[:, :-1]\n",
        "y = df.iloc[:, -1]\n",
        "\n",
        "# split the dataset\n",
        "X_train, X_test, y_train, y_test = train_test_split(\n",
        "X, y, test_size=0.05, random_state=0)"
      ],
      "metadata": {
        "id": "nnKMufqgHvvL"
      },
      "execution_count": null,
      "outputs": []
    }
  ]
}